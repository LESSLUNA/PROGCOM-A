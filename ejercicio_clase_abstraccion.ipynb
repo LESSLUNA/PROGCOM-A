{
  "nbformat": 4,
  "nbformat_minor": 0,
  "metadata": {
    "colab": {
      "provenance": [],
      "authorship_tag": "ABX9TyN9R+slp8YpJuC08rGAk27e",
      "include_colab_link": true
    },
    "kernelspec": {
      "name": "python3",
      "display_name": "Python 3"
    },
    "language_info": {
      "name": "python"
    }
  },
  "cells": [
    {
      "cell_type": "markdown",
      "metadata": {
        "id": "view-in-github",
        "colab_type": "text"
      },
      "source": [
        "<a href=\"https://colab.research.google.com/github/LESSLUNA/PROGCOM-A/blob/main/ejercicio_clase_abstraccion.ipynb\" target=\"_parent\"><img src=\"https://colab.research.google.com/assets/colab-badge.svg\" alt=\"Open In Colab\"/></a>"
      ]
    },
    {
      "cell_type": "code",
      "source": [
        "# Clase Persona con atributos y lógica de puntaje\n",
        "class Persona:\n",
        "    def __init__(self, tarjetas_otras, reportado_riesgo, tipo_contrato, credito_otras_entidades, credito_misma_entidad, edad):\n",
        "        self.tarjetas_otras = tarjetas_otras\n",
        "        self.reportado_riesgo = reportado_riesgo\n",
        "        self.tipo_contrato = tipo_contrato\n",
        "        self.credito_otras_entidades = credito_otras_entidades\n",
        "        self.credito_misma_entidad = credito_misma_entidad\n",
        "        self.edad = edad\n",
        "\n",
        "    def calcular_puntaje(self):\n",
        "        puntos = 0\n",
        "        if self.tarjetas_otras:\n",
        "            puntos += 1\n",
        "        if not self.reportado_riesgo:\n",
        "            puntos += 3\n",
        "        if self.tipo_contrato == \"definido\":\n",
        "            puntos += 2\n",
        "        elif self.tipo_contrato == \"indefinido\":\n",
        "            puntos += 3\n",
        "        if self.credito_otras_entidades:\n",
        "            puntos += 2\n",
        "        if self.credito_misma_entidad:\n",
        "            puntos += 3\n",
        "\n",
        "        if 18 <= self.edad <= 22:\n",
        "            puntos += 2\n",
        "        elif 23 <= self.edad <= 30:\n",
        "            puntos += 4\n",
        "        elif 31 <= self.edad <= 40:\n",
        "            puntos += 3\n",
        "        elif self.edad > 41:\n",
        "            puntos += 1\n",
        "\n",
        "        return puntos\n",
        "\n",
        "    def esta_aprobado(self):\n",
        "        return self.calcular_puntaje() >= 6\n",
        "\n",
        "\n",
        "# Función para obtener entrada del usuario (sí/no → booleano)\n",
        "def leer_bool(pregunta):\n",
        "    while True:\n",
        "        respuesta = input(pregunta + \" (si/no): \").lower()\n",
        "        if respuesta == \"si\":\n",
        "            return True\n",
        "        elif respuesta == \"no\":\n",
        "            return False\n",
        "        else:\n",
        "            print(\"Por favor responde con 'si' o 'no'.\")\n",
        "\n",
        "# Función principal\n",
        "def main():\n",
        "    print(\"=== Evaluador de Crédito ===\")\n",
        "\n",
        "    tarjetas = leer_bool(\"¿Posee tarjetas con otras franquicias?\")\n",
        "    riesgo = leer_bool(\"¿Está reportado en entidades de riesgo?\")\n",
        "    while True:\n",
        "        contrato = input(\"Tipo de contrato (definido/indefinido): \").lower()\n",
        "        if contrato in [\"definido\", \"indefinido\"]:\n",
        "            break\n",
        "        else:\n",
        "            print(\"Por favor escribe 'definido' o 'indefinido'.\")\n",
        "    credito_otras = leer_bool(\"¿Ha tenido crédito en otras entidades?\")\n",
        "    credito_misma = leer_bool(\"¿Ha tenido crédito en esta entidad?\")\n",
        "\n",
        "    while True:\n",
        "        try:\n",
        "            edad = int(input(\"Edad: \"))\n",
        "            break\n",
        "        except ValueError:\n",
        "            print(\"Edad inválida. Intenta nuevamente.\")\n",
        "\n",
        "    persona = Persona(tarjetas, riesgo, contrato, credito_otras, credito_misma, edad)\n",
        "    puntaje = persona.calcular_puntaje()\n",
        "\n",
        "    print(\"\\n--- Resultado ---\")\n",
        "    print(f\"Puntaje obtenido: {puntaje}\")\n",
        "    if persona.esta_aprobado():\n",
        "        print(\"✅ Crédito APROBADO\")\n",
        "    else:\n",
        "        print(\"❌ Crédito NO aprobado\")\n",
        "\n",
        "# Ejecutar\n",
        "main()\n"
      ],
      "metadata": {
        "id": "t8eciASdes-f"
      },
      "execution_count": null,
      "outputs": []
    }
  ]
}