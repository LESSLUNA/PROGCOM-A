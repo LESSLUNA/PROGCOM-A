{
  "nbformat": 4,
  "nbformat_minor": 0,
  "metadata": {
    "colab": {
      "provenance": [],
      "authorship_tag": "ABX9TyMi60OvgEnbZry7UWAzups0",
      "include_colab_link": true
    },
    "kernelspec": {
      "name": "python3",
      "display_name": "Python 3"
    },
    "language_info": {
      "name": "python"
    }
  },
  "cells": [
    {
      "cell_type": "markdown",
      "metadata": {
        "id": "view-in-github",
        "colab_type": "text"
      },
      "source": [
        "<a href=\"https://colab.research.google.com/github/LESSLUNA/PROGCOM-A/blob/main/programa_mejorado.ipynb\" target=\"_parent\"><img src=\"https://colab.research.google.com/assets/colab-badge.svg\" alt=\"Open In Colab\"/></a>"
      ]
    },
    {
      "cell_type": "code",
      "source": [
        "import csv\n",
        "from datetime import datetime\n",
        "\n",
        "def evaluar_signos(tension_sistolica, tension_diastolica, ritmo_cardiaco, temperatura, spo2):\n",
        "    resultados = {}\n",
        "\n",
        "    # Tensión arterial\n",
        "    if tension_sistolica < 90 or tension_diastolica < 60:\n",
        "        resultados[\"Tensión arterial\"] = \"Baja\"\n",
        "    elif tension_sistolica > 140 or tension_diastolica > 90:\n",
        "        resultados[\"Tensión arterial\"] = \"Alta\"\n",
        "    else:\n",
        "        resultados[\"Tensión arterial\"] = \"Normal\"\n",
        "\n",
        "    # Ritmo cardíaco\n",
        "    if ritmo_cardiaco < 60:\n",
        "        resultados[\"Ritmo cardíaco\"] = \"Bajo\"\n",
        "    elif ritmo_cardiaco > 100:\n",
        "        resultados[\"Ritmo cardíaco\"] = \"Alto\"\n",
        "    else:\n",
        "        resultados[\"Ritmo cardíaco\"] = \"Normal\"\n",
        "\n",
        "    # Temperatura\n",
        "    if temperatura < 36.0:\n",
        "        resultados[\"Temperatura\"] = \"Baja\"\n",
        "    elif temperatura > 37.5:\n",
        "        resultados[\"Temperatura\"] = \"Alta\"\n",
        "    else:\n",
        "        resultados[\"Temperatura\"] = \"Normal\"\n",
        "\n",
        "    # SpO2\n",
        "    if spo2 < 95:\n",
        "        resultados[\"SpO2\"] = \"Baja\"\n",
        "    else:\n",
        "        resultados[\"SpO2\"] = \"Normal\"\n",
        "\n",
        "    return resultados\n",
        "\n",
        "def tomar_signos():\n",
        "    print(\"\\n--- Registro de Signos Vitales ---\")\n",
        "    nombre = input(\"Nombre del paciente: \")\n",
        "    tension_sistolica = int(input(\"Tensión sistólica (mmHg): \"))\n",
        "    tension_diastolica = int(input(\"Tensión diastólica (mmHg): \"))\n",
        "    ritmo_cardiaco = int(input(\"Ritmo cardíaco (lpm): \"))\n",
        "    temperatura = float(input(\"Temperatura (°C): \"))\n",
        "    spo2 = int(input(\"SpO2 (%): \"))\n",
        "\n",
        "    evaluacion = evaluar_signos(tension_sistolica, tension_diastolica, ritmo_cardiaco, temperatura, spo2)\n",
        "\n",
        "    print(\"\\n--- Evaluación ---\")\n",
        "    for signo, estado in evaluacion.items():\n",
        "        print(f\"{signo}: {estado}\")\n",
        "\n",
        "    datos = {\n",
        "        \"Fecha y hora\": datetime.now().strftime(\"%Y-%m-%d %H:%M:%S\"),\n",
        "        \"Paciente\": nombre,\n",
        "        \"Tensión sistólica\": tension_sistolica,\n",
        "        \"Tensión diastólica\": tension_diastolica,\n",
        "        \"Ritmo cardíaco\": ritmo_cardiaco,\n",
        "        \"Temperatura\": temperatura,\n",
        "        \"SpO2\": spo2,\n",
        "        \"Estado Tensión\": evaluacion[\"Tensión arterial\"],\n",
        "        \"Estado Ritmo\": evaluacion[\"Ritmo cardíaco\"],\n",
        "        \"Estado Temp\": evaluacion[\"Temperatura\"],\n",
        "        \"Estado SpO2\": evaluacion[\"SpO2\"]\n",
        "    }\n",
        "\n",
        "    with open(\"signos_vitales.csv\", \"a\", newline='') as archivo:\n",
        "        escritor = csv.DictWriter(archivo, fieldnames=datos.keys())\n",
        "        if archivo.tell() == 0:\n",
        "            escritor.writeheader()\n",
        "        escritor.writerow(datos)\n",
        "\n",
        "    print(\"\\n✔️ Datos y evaluación guardados correctamente.\")\n",
        "\n",
        "# Ejecutar\n",
        "tomar_signos()\n"
      ],
      "metadata": {
        "colab": {
          "base_uri": "https://localhost:8080/"
        },
        "id": "RYYmpGJJ3Khx",
        "outputId": "d9ca4895-7204-41c1-b70b-d942dbe2673c"
      },
      "execution_count": 2,
      "outputs": [
        {
          "output_type": "stream",
          "name": "stdout",
          "text": [
            "\n",
            "--- Registro de Signos Vitales ---\n",
            "Nombre del paciente: less\n",
            "Tensión sistólica (mmHg): 130\n",
            "Tensión diastólica (mmHg): 25\n",
            "Ritmo cardíaco (lpm): 60\n",
            "Temperatura (°C): 37\n",
            "SpO2 (%): 50\n",
            "\n",
            "--- Evaluación ---\n",
            "Tensión arterial: Baja\n",
            "Ritmo cardíaco: Normal\n",
            "Temperatura: Normal\n",
            "SpO2: Baja\n",
            "\n",
            "✔️ Datos y evaluación guardados correctamente.\n"
          ]
        }
      ]
    }
  ]
}