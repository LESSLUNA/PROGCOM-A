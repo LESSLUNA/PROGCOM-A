{
  "nbformat": 4,
  "nbformat_minor": 0,
  "metadata": {
    "colab": {
      "provenance": [],
      "authorship_tag": "ABX9TyP/StdSLM3Ixqwo9EfTxkzN",
      "include_colab_link": true
    },
    "kernelspec": {
      "name": "python3",
      "display_name": "Python 3"
    },
    "language_info": {
      "name": "python"
    }
  },
  "cells": [
    {
      "cell_type": "markdown",
      "metadata": {
        "id": "view-in-github",
        "colab_type": "text"
      },
      "source": [
        "<a href=\"https://colab.research.google.com/github/LESSLUNA/PROGCOM-A/blob/main/palabras.ipynb\" target=\"_parent\"><img src=\"https://colab.research.google.com/assets/colab-badge.svg\" alt=\"Open In Colab\"/></a>"
      ]
    },
    {
      "cell_type": "markdown",
      "source": [
        "1. print()\n",
        "Descripción: Muestra información en la consola.\n",
        "\n",
        "Ejemplo:"
      ],
      "metadata": {
        "id": "pIQT0YyHrMqN"
      }
    },
    {
      "cell_type": "code",
      "source": [
        "print(\"Hola, Mundo!\")\n"
      ],
      "metadata": {
        "id": "mG0cMU2trOCf"
      },
      "execution_count": null,
      "outputs": []
    },
    {
      "cell_type": "markdown",
      "source": [
        "2. len()\n",
        "Descripción: Devuelve la longitud de un objeto (como una lista o cadena).\n",
        "\n",
        "Ejemplo:"
      ],
      "metadata": {
        "id": "QtakdyUfrV2l"
      }
    },
    {
      "cell_type": "code",
      "source": [
        "print(len(\"Hola\"))  # Salida: 4\n"
      ],
      "metadata": {
        "id": "HN6JvOyvre30"
      },
      "execution_count": null,
      "outputs": []
    },
    {
      "cell_type": "markdown",
      "source": [
        "3. type()\n",
        "Descripción: Devuelve el tipo de un objeto.\n",
        "\n",
        "Ejemplo:"
      ],
      "metadata": {
        "id": "ey1hN0ISriuK"
      }
    },
    {
      "cell_type": "code",
      "source": [
        "print(type(10))  # Salida: <class 'int'>\n"
      ],
      "metadata": {
        "id": "qO6zgBRiroq4"
      },
      "execution_count": null,
      "outputs": []
    },
    {
      "cell_type": "markdown",
      "source": [
        "4. input()\n",
        "Descripción: Permite al usuario introducir datos desde la consola.\n",
        "\n",
        "Ejemplo:"
      ],
      "metadata": {
        "id": "nwmM7rb0ruDb"
      }
    },
    {
      "cell_type": "code",
      "source": [
        "nombre = input(\"Introduce tu nombre: \")\n",
        "print(\"Hola\", nombre)\n"
      ],
      "metadata": {
        "id": "4rEVFX91rytU"
      },
      "execution_count": null,
      "outputs": []
    },
    {
      "cell_type": "markdown",
      "source": [
        "5. int()\n",
        "Descripción: Convierte un valor a entero.\n",
        "\n",
        "Ejemplo:"
      ],
      "metadata": {
        "id": "Gw2halMhr82x"
      }
    },
    {
      "cell_type": "code",
      "source": [
        "numero = int(\"5\")\n",
        "print(numero + 1)  # Salida: 6\n"
      ],
      "metadata": {
        "id": "dyx0aD3kr95d"
      },
      "execution_count": null,
      "outputs": []
    },
    {
      "cell_type": "markdown",
      "source": [
        "6. str()\n",
        "Descripción: Convierte un valor a cadena de texto.\n",
        "\n",
        "Ejemplo:"
      ],
      "metadata": {
        "id": "Krb3m4lssBJz"
      }
    },
    {
      "cell_type": "code",
      "source": [
        "numero = 10\n",
        "print(str(numero) + \" es un número.\")\n"
      ],
      "metadata": {
        "id": "_otvNgvTsIli"
      },
      "execution_count": null,
      "outputs": []
    },
    {
      "cell_type": "markdown",
      "source": [
        "7. float()\n",
        "Descripción: Convierte un valor a número flotante.\n",
        "\n",
        "Ejemplo:/*63*9963"
      ],
      "metadata": {
        "id": "AWF9NXZAsgrd"
      }
    },
    {
      "cell_type": "code",
      "source": [
        "numero = float(\"3.14\")\n",
        "print(numero + 1)  # Salida: 4.14\n"
      ],
      "metadata": {
        "id": "uUT53z-AsjrX"
      },
      "execution_count": null,
      "outputs": []
    },
    {
      "cell_type": "markdown",
      "source": [
        "8. sum()\n",
        "Descripción: Suma los elementos de un iterable (como una lista).\n",
        "\n",
        "Ejemplo:"
      ],
      "metadata": {
        "id": "YWIJeCuMsvxk"
      }
    },
    {
      "cell_type": "code",
      "source": [
        "numeros = [1, 2, 3]\n",
        "print(sum(numeros))  # Salida: 6\n"
      ],
      "metadata": {
        "id": "-Ne9-XqBszNH"
      },
      "execution_count": null,
      "outputs": []
    },
    {
      "cell_type": "markdown",
      "source": [
        "9. max()\n",
        "Descripción: Devuelve el valor máximo de un iterable.\n",
        "\n",
        "Ejemplo:"
      ],
      "metadata": {
        "id": "jYnu3okotCuV"
      }
    },
    {
      "cell_type": "code",
      "source": [
        "numeros = [1, 2, 3]\n",
        "print(max(numeros))  # Salida: 3\n"
      ],
      "metadata": {
        "id": "1414DC2bt2X_"
      },
      "execution_count": null,
      "outputs": []
    },
    {
      "cell_type": "markdown",
      "source": [
        "10. min()\n",
        "Descripción: Devuelve el valor mínimo de un iterable.\n",
        "\n",
        "Ejemplo:\n"
      ],
      "metadata": {
        "id": "Dt5J0dpAuIKQ"
      }
    },
    {
      "cell_type": "code",
      "source": [
        "numeros = [1, 2, 3]\n",
        "print(min(numeros))  # Salida: 1\n"
      ],
      "metadata": {
        "id": "4JlDzNHKuK0D"
      },
      "execution_count": null,
      "outputs": []
    },
    {
      "cell_type": "markdown",
      "source": [
        "11. abs()\n",
        "Descripción: Devuelve el valor absoluto de un número.\n",
        "\n",
        "Ejemplo:"
      ],
      "metadata": {
        "id": "G86bbCZOuPkt"
      }
    },
    {
      "cell_type": "code",
      "source": [
        "print(abs(-5))  # Salida: 5\n"
      ],
      "metadata": {
        "id": "li_Ei7YQuYAA"
      },
      "execution_count": null,
      "outputs": []
    },
    {
      "cell_type": "markdown",
      "source": [
        "12. round()\n",
        "Descripción: Redondea un número flotante al número especificado de decimales.\n",
        "\n",
        "Ejemplo:"
      ],
      "metadata": {
        "id": "p76Fn5iwucip"
      }
    },
    {
      "cell_type": "code",
      "source": [
        "print(round(3.14159, 2))  # Salida: 3.14\n"
      ],
      "metadata": {
        "id": "PC0-jZuWumM2"
      },
      "execution_count": null,
      "outputs": []
    },
    {
      "cell_type": "markdown",
      "source": [
        "13. sorted()\n",
        "Descripción: Devuelve una nueva lista con los elementos ordenados.\n",
        "\n",
        "Ejemplo:"
      ],
      "metadata": {
        "id": "edb2GfkWutJn"
      }
    },
    {
      "cell_type": "code",
      "source": [
        "lista = [3, 1, 2]\n",
        "print(sorted(lista))  # Salida: [1, 2, 3]\n"
      ],
      "metadata": {
        "id": "tproqyEUuzel"
      },
      "execution_count": null,
      "outputs": []
    },
    {
      "cell_type": "markdown",
      "source": [
        "14. reversed()\n",
        "Descripción: Devuelve un iterador que recorre el objeto en orden inverso.\n",
        "\n",
        "Ejemplo:"
      ],
      "metadata": {
        "id": "_C3EG9a0vATq"
      }
    },
    {
      "cell_type": "code",
      "source": [
        "lista = [1, 2, 3]\n",
        "print(list(reversed(lista)))  # Salida: [3, 2, 1]\n"
      ],
      "metadata": {
        "id": "CeYaC25RvEIt"
      },
      "execution_count": null,
      "outputs": []
    },
    {
      "cell_type": "markdown",
      "source": [
        "15. range()\n",
        "Descripción: Genera una secuencia de números en un rango especificado.\n",
        "\n",
        "Ejemplo:"
      ],
      "metadata": {
        "id": "SoA8v-u9vMba"
      }
    },
    {
      "cell_type": "code",
      "source": [
        "for i in range(3):\n",
        "    print(i)  # Salida: 0, 1, 2\n"
      ],
      "metadata": {
        "id": "834AdxXmvR6d"
      },
      "execution_count": null,
      "outputs": []
    },
    {
      "cell_type": "markdown",
      "source": [
        "16. enumerate()\n",
        "Descripción: Devuelve un objeto enumerado de un iterable (índice y valor).\n",
        "\n",
        "Ejemplo:\n",
        "\n",
        "python\n",
        "Copiar código\n"
      ],
      "metadata": {
        "id": "G--_S31Wvbkq"
      }
    },
    {
      "cell_type": "code",
      "source": [
        "lista = [\"a\", \"b\", \"c\"]\n",
        "for index, value in enumerate(lista):\n",
        "    print(index, value)"
      ],
      "metadata": {
        "id": "kF5uKaeEvrcR"
      },
      "execution_count": null,
      "outputs": []
    },
    {
      "cell_type": "markdown",
      "source": [
        "17. any()\n",
        "Descripción: Devuelve True si al menos un elemento de un iterable es True.\n",
        "\n",
        "Ejemplo:"
      ],
      "metadata": {
        "id": "KABfytjNvwOh"
      }
    },
    {
      "cell_type": "code",
      "source": [
        "lista = [False, True, False]\n",
        "print(any(lista))  # Salida: True\n"
      ],
      "metadata": {
        "id": "ZSw61f8Jv5RP"
      },
      "execution_count": null,
      "outputs": []
    },
    {
      "cell_type": "markdown",
      "source": [
        "18. all()\n",
        "Descripción: Devuelve True si todos los elementos en un iterable son True.\n",
        "\n",
        "Ejemplo:"
      ],
      "metadata": {
        "id": "c8t58CQxwGTw"
      }
    },
    {
      "cell_type": "code",
      "source": [
        "print(all([True, True, True]))  # Salida: True\n",
        "print(all([1, 2, 3]))  # Salida: True\n",
        "print(all([True, False, True]))  # Salida: False\n"
      ],
      "metadata": {
        "id": "yeptJNG5y9Zp"
      },
      "execution_count": null,
      "outputs": []
    },
    {
      "cell_type": "markdown",
      "source": [
        "19. enumerate()\n",
        "Descripción: Añade un índice a los elementos de un iterable.\n",
        "\n",
        "Ejemplo:"
      ],
      "metadata": {
        "id": "aEVpTV4WwQ4l"
      }
    },
    {
      "cell_type": "code",
      "source": [
        "lista = [\"a\", \"b\", \"c\"]\n",
        "print(list(enumerate(lista)))  # Salida: [(0, 'a'), (1, 'b'), (2, 'c')]\n"
      ],
      "metadata": {
        "id": "rqkcggifzEe4"
      },
      "execution_count": null,
      "outputs": []
    },
    {
      "cell_type": "markdown",
      "source": [
        "20. zip()\n",
        "Descripción: Une dos o más listas en pares.\n",
        "\n",
        "Ejemplo:"
      ],
      "metadata": {
        "id": "QeieG9W_zG0Z"
      }
    },
    {
      "cell_type": "code",
      "source": [
        "nombres = [\"Ana\", \"Juan\"]\n",
        "edades = [25, 30]\n",
        "print(list(zip(nombres, edades)))  # Salida: [('Ana', 25), ('Juan', 30)]\n"
      ],
      "metadata": {
        "id": "PFSBD5_7jHNL"
      },
      "execution_count": null,
      "outputs": []
    },
    {
      "cell_type": "markdown",
      "source": [
        "21. sorted()\n",
        "Descripción: Devuelve una lista ordenada.\n",
        "\n",
        "Ejemplo:"
      ],
      "metadata": {
        "id": "49bh8DLwjJsZ"
      }
    },
    {
      "cell_type": "code",
      "source": [
        "print(sorted([3, 1, 2]))  # Salida: [1, 2, 3]\n"
      ],
      "metadata": {
        "id": "GJNmhnROjOAW"
      },
      "execution_count": null,
      "outputs": []
    },
    {
      "cell_type": "markdown",
      "source": [
        "22. reversed()\n",
        "Descripción: Invierte el orden de un iterable.\n",
        "\n",
        "Ejemplo:"
      ],
      "metadata": {
        "id": "3XWfTvNkjRIL"
      }
    },
    {
      "cell_type": "code",
      "source": [
        "print(list(reversed([1, 2, 3])))  # Salida: [3, 2, 1]\n"
      ],
      "metadata": {
        "id": "oiniCQ4QjW5l"
      },
      "execution_count": null,
      "outputs": []
    },
    {
      "cell_type": "markdown",
      "source": [
        "23. range()\n",
        "Descripción: Genera una secuencia de números.\n",
        "\n",
        "Ejemplo:"
      ],
      "metadata": {
        "id": "RGlmsej4jaWd"
      }
    },
    {
      "cell_type": "code",
      "source": [
        "print(list(range(3)))  # Salida: [0, 1, 2]\n"
      ],
      "metadata": {
        "id": "OaA4VZSljcbt"
      },
      "execution_count": null,
      "outputs": []
    },
    {
      "cell_type": "markdown",
      "source": [
        "24. map()\n",
        "Descripción: Aplica una función a cada elemento de un iterable.\n",
        "\n",
        "Ejemplo:"
      ],
      "metadata": {
        "id": "isaqh9P4ji8F"
      }
    },
    {
      "cell_type": "code",
      "source": [
        "def cuadrado(x):\n",
        "    return x * x\n",
        "\n",
        "print(list(map(cuadrado, [1, 2, 3])))  # Salida: [1, 4, 9]\n"
      ],
      "metadata": {
        "id": "Rk_QkoVujj5t"
      },
      "execution_count": null,
      "outputs": []
    },
    {
      "cell_type": "markdown",
      "source": [
        "25. filter()\n",
        "Descripción: Filtra elementos de un iterable que cumplan una condición.\n",
        "\n",
        "Ejemplo:"
      ],
      "metadata": {
        "id": "dq5xvxyqjrG-"
      }
    },
    {
      "cell_type": "code",
      "source": [
        "numeros = [1, 2, 3, 4, 5]\n",
        "pares = list(filter(lambda x: x % 2 == 0, numeros))\n",
        "print(pares)  # Salida: [2, 4]\n"
      ],
      "metadata": {
        "id": "-_28t4agjxFl"
      },
      "execution_count": null,
      "outputs": []
    },
    {
      "cell_type": "markdown",
      "source": [
        "26. chr()\n",
        "Descripción: Convierte un número ASCII en un carácter.\n",
        "\n",
        "Ejemplo:"
      ],
      "metadata": {
        "id": "QsqyT9KhkYnA"
      }
    },
    {
      "cell_type": "code",
      "source": [
        "print(chr(65))  # Salida: 'A'\n"
      ],
      "metadata": {
        "id": "3nbhYWtAkcmc"
      },
      "execution_count": null,
      "outputs": []
    },
    {
      "cell_type": "markdown",
      "source": [
        "27. ord()\n",
        "Descripción: Convierte un carácter en su código ASCII.\n",
        "\n",
        "Ejemplo:"
      ],
      "metadata": {
        "id": "vkXl8G91kj-n"
      }
    },
    {
      "cell_type": "code",
      "source": [
        "print(ord('A'))  # Salida: 65\n"
      ],
      "metadata": {
        "id": "8XL_8fNqkpjh"
      },
      "execution_count": null,
      "outputs": []
    },
    {
      "cell_type": "markdown",
      "source": [
        "28. bin()\n",
        "Descripción: Convierte un número a binario.\n",
        "\n",
        "Ejemplo:"
      ],
      "metadata": {
        "id": "dae7zVB5k_bY"
      }
    },
    {
      "cell_type": "code",
      "source": [
        "print(bin(10))  # Salida: '0b1010'\n"
      ],
      "metadata": {
        "id": "vDmNYgNVlJL_"
      },
      "execution_count": null,
      "outputs": []
    },
    {
      "cell_type": "markdown",
      "source": [
        "29. hex()\n",
        "Descripción: Convierte un número a hexadecimal.\n",
        "\n",
        "Ejemplo:"
      ],
      "metadata": {
        "id": "nzQzEnXGlMor"
      }
    },
    {
      "cell_type": "code",
      "source": [
        "print(hex(255))  # Salida: '0xff'\n"
      ],
      "metadata": {
        "id": "AM1ajFdjl438"
      },
      "execution_count": null,
      "outputs": []
    },
    {
      "cell_type": "markdown",
      "source": [
        "30. oct()\n",
        "Descripción: Convierte un número a octal.\n",
        "\n",
        "Ejemplo:"
      ],
      "metadata": {
        "id": "vpVeMx2wl70S"
      }
    },
    {
      "cell_type": "code",
      "source": [
        "print(oct(8))  # Salida: '0o10'\n"
      ],
      "metadata": {
        "id": "sk063WpvmA-T"
      },
      "execution_count": null,
      "outputs": []
    },
    {
      "cell_type": "markdown",
      "source": [
        "31. isinstance()\n",
        "Descripción: Verifica si un objeto es de un tipo específico.\n",
        "\n",
        "Ejemplo:"
      ],
      "metadata": {
        "id": "aCu7YZZqmDXD"
      }
    },
    {
      "cell_type": "code",
      "source": [
        "print(isinstance(10, int))  # Salida: True\n"
      ],
      "metadata": {
        "id": "ina1sT0cmHIb"
      },
      "execution_count": null,
      "outputs": []
    },
    {
      "cell_type": "markdown",
      "source": [
        "32. callable()\n",
        "Descripción: Verifica si un objeto es una función.\n",
        "\n",
        "Ejemplo:"
      ],
      "metadata": {
        "id": "6cBh3cUumQai"
      }
    },
    {
      "cell_type": "code",
      "source": [
        "def funcion():\n",
        "    pass\n",
        "\n",
        "print(callable(funcion))  # Salida: True\n"
      ],
      "metadata": {
        "id": "9yBQjxmwmXau"
      },
      "execution_count": null,
      "outputs": []
    },
    {
      "cell_type": "markdown",
      "source": [
        "33. eval()\n",
        "Descripción: Evalúa una expresión en forma de cadena.\n",
        "\n",
        "Ejemplo:"
      ],
      "metadata": {
        "id": "ChVfyNzFmgzb"
      }
    },
    {
      "cell_type": "code",
      "source": [
        "print(eval(\"3 + 5\"))  # Salida: 8\n"
      ],
      "metadata": {
        "id": "MpJIKAkDm3AP"
      },
      "execution_count": null,
      "outputs": []
    },
    {
      "cell_type": "markdown",
      "source": [
        "34. exec()\n",
        "Descripción: Ejecuta código Python en forma de cadena.\n",
        "\n",
        "Ejemplo:"
      ],
      "metadata": {
        "id": "XCb4GDGQm7fu"
      }
    },
    {
      "cell_type": "code",
      "source": [
        "codigo = \"print('Hola')\"\n",
        "exec(codigo)  # Salida: Hola\n"
      ],
      "metadata": {
        "id": "BZLGXw66nDUh"
      },
      "execution_count": null,
      "outputs": []
    },
    {
      "cell_type": "markdown",
      "source": [
        "35. format()\n",
        "Descripción: Da formato a una cadena.\n",
        "\n",
        "Ejemplo:\n",
        "\n"
      ],
      "metadata": {
        "id": "2Fwi8b_rnG9g"
      }
    },
    {
      "cell_type": "code",
      "source": [
        "codigo = \"print('Hola')\"\n",
        "exec(codigo)  # Salida: Hola\n"
      ],
      "metadata": {
        "id": "CQMwjM7JnQvW"
      },
      "execution_count": null,
      "outputs": []
    },
    {
      "cell_type": "markdown",
      "source": [
        "36. divmod()\n",
        "Descripción: Retorna el cociente y el residuo de una división.\n",
        "\n",
        "Ejemplo:"
      ],
      "metadata": {
        "id": "4gB71YUhnwyJ"
      }
    },
    {
      "cell_type": "code",
      "source": [
        "print(divmod(10, 3))  # Salida: (3, 1)\n"
      ],
      "metadata": {
        "id": "p6tydWYQn40c"
      },
      "execution_count": null,
      "outputs": []
    },
    {
      "cell_type": "markdown",
      "source": [
        "37. id()\n",
        "Descripción: Retorna el identificador único de un objeto.\n",
        "\n",
        "Ejemplo:"
      ],
      "metadata": {
        "id": "884ZGx1Kn7Jx"
      }
    },
    {
      "cell_type": "code",
      "source": [
        "x = 5\n",
        "print(id(x))  # Salida: Número único de memoria\n"
      ],
      "metadata": {
        "id": "Ysx4ke8Jn_Rl"
      },
      "execution_count": null,
      "outputs": []
    },
    {
      "cell_type": "markdown",
      "source": [
        "38. hash()\n",
        "Descripción: Retorna el valor hash de un objeto.\n",
        "\n",
        "Ejemplo:"
      ],
      "metadata": {
        "id": "TLkMwJSHoEza"
      }
    },
    {
      "cell_type": "code",
      "source": [
        "print(hash(\"Hola\"))  # Salida: Número único hash\n"
      ],
      "metadata": {
        "id": "4_z40aAQoGDF"
      },
      "execution_count": null,
      "outputs": []
    },
    {
      "cell_type": "markdown",
      "source": [
        "39. help()\n",
        "Descripción: Muestra la documentación de una función.\n",
        "\n",
        "Ejemplo:"
      ],
      "metadata": {
        "id": "1mD7bGJFoRMX"
      }
    },
    {
      "cell_type": "code",
      "source": [
        "help(print)\n"
      ],
      "metadata": {
        "id": "0NlSnTcYoSVv"
      },
      "execution_count": null,
      "outputs": []
    },
    {
      "cell_type": "markdown",
      "source": [
        "40. repr()\n",
        "Descripción: Retorna la representación de un objeto en cadena.\n",
        "\n",
        "Ejemplo:"
      ],
      "metadata": {
        "id": "KjZrhiidoW0Q"
      }
    },
    {
      "cell_type": "code",
      "source": [
        "print(repr(\"Hola\"))  # Salida: \"'Hola'\"\n"
      ],
      "metadata": {
        "id": "OJV2VbBToop9"
      },
      "execution_count": null,
      "outputs": []
    },
    {
      "cell_type": "markdown",
      "source": [
        "41. bool()\n",
        "Descripción: Convierte un valor en True o False.\n",
        "\n",
        "Ejemplo:"
      ],
      "metadata": {
        "id": "nhWPitJdox14"
      }
    },
    {
      "cell_type": "code",
      "source": [
        "print(bool(0))  # Salida: False\n",
        "print(bool(1))  # Salida: True\n"
      ],
      "metadata": {
        "id": "q2_b7Iguo20r"
      },
      "execution_count": null,
      "outputs": []
    },
    {
      "cell_type": "markdown",
      "source": [
        "42. bytes()\n",
        "Descripción: Convierte datos en una secuencia de bytes.\n",
        "\n",
        "Ejemplo:"
      ],
      "metadata": {
        "id": "G9X6hNOMo609"
      }
    },
    {
      "cell_type": "code",
      "source": [
        "print(bytes(\"Hola\", \"utf-8\"))  # Salida: b'Hola'\n"
      ],
      "metadata": {
        "id": "uFS3ChYRpBOH"
      },
      "execution_count": null,
      "outputs": []
    },
    {
      "cell_type": "markdown",
      "source": [
        "43. bytearray()\n",
        "Descripción: Crea un array de bytes modificable.\n",
        "\n",
        "Ejemplo:"
      ],
      "metadata": {
        "id": "4jIakvWapOM4"
      }
    },
    {
      "cell_type": "code",
      "source": [
        "b = bytearray([65, 66, 67])\n",
        "print(b)  # Salida: bytearray(b'ABC')\n"
      ],
      "metadata": {
        "id": "CmVH0NHdpRQj"
      },
      "execution_count": null,
      "outputs": []
    },
    {
      "cell_type": "markdown",
      "source": [
        "44. memoryview()\n",
        "Descripción: Crea una vista de memoria de un objeto de bytes.\n",
        "\n",
        "Ejemplo:"
      ],
      "metadata": {
        "id": "5dy56Kj9pgRd"
      }
    },
    {
      "cell_type": "code",
      "source": [
        "b = bytes(\"Hola\", \"utf-8\")\n",
        "m = memoryview(b)\n",
        "print(m[0])  # Salida: 72 (ASCII de 'H')\n"
      ],
      "metadata": {
        "id": "gPQuEYp2ppZI"
      },
      "execution_count": null,
      "outputs": []
    },
    {
      "cell_type": "markdown",
      "source": [
        "45. complex()\n",
        "Descripción: Crea un número complejo.\n",
        "\n",
        "Ejemplo:"
      ],
      "metadata": {
        "id": "MfIIZmPQpy9z"
      }
    },
    {
      "cell_type": "code",
      "source": [
        "print(complex(2, 3))  # Salida: (2+3j)\n"
      ],
      "metadata": {
        "id": "4q_DZge5p323"
      },
      "execution_count": null,
      "outputs": []
    },
    {
      "cell_type": "markdown",
      "source": [
        "46. frozenset()\n",
        "Descripción: Crea un conjunto inmutable.\n",
        "\n",
        "Ejemplo:"
      ],
      "metadata": {
        "id": "7aR5SawHp8NS"
      }
    },
    {
      "cell_type": "code",
      "source": [
        "fs = frozenset([1, 2, 3])\n",
        "print(fs)  # Salida: frozenset({1, 2, 3})\n"
      ],
      "metadata": {
        "id": "Cn_nhXQNpw5l"
      },
      "execution_count": null,
      "outputs": []
    },
    {
      "cell_type": "markdown",
      "source": [
        "47. slice()\n",
        "Descripción: Crea un objeto de segmento para rebanar secuencias.\n",
        "\n",
        "Ejemplo:"
      ],
      "metadata": {
        "id": "Sbsuiak0qIjc"
      }
    },
    {
      "cell_type": "code",
      "source": [
        "s = slice(1, 4)\n",
        "print([0, 1, 2, 3, 4][s])  # Salida: [1, 2, 3]\n"
      ],
      "metadata": {
        "id": "WbaE2n6TqOU7"
      },
      "execution_count": null,
      "outputs": []
    },
    {
      "cell_type": "markdown",
      "source": [
        "48. staticmethod()\n",
        "Descripción: Define un método estático en una clase.\n",
        "\n",
        "Ejemplo:"
      ],
      "metadata": {
        "id": "bH3LMNYDqRgS"
      }
    },
    {
      "cell_type": "code",
      "source": [
        "class Ejemplo:\n",
        "    @staticmethod\n",
        "    def saludo():\n",
        "        return \"Hola\"\n",
        "\n",
        "print(Ejemplo.saludo())  # Salida: Hola\n"
      ],
      "metadata": {
        "id": "Cl8M2qnfqVm1"
      },
      "execution_count": null,
      "outputs": []
    },
    {
      "cell_type": "markdown",
      "source": [
        "49. classmethod()\n",
        "Descripción: Define un método de clase.\n",
        "\n",
        "Ejemplo:"
      ],
      "metadata": {
        "id": "nEXE7TaWqfrM"
      }
    },
    {
      "cell_type": "code",
      "source": [
        "class Ejemplo:\n",
        "    valor = \"Hola\"\n",
        "\n",
        "    @classmethod\n",
        "    def obtener_valor(cls):\n",
        "        return cls.valor\n",
        "\n",
        "print(Ejemplo.obtener_valor())  # Salida: Hola\n"
      ],
      "metadata": {
        "id": "A8MrQQm7qhhe"
      },
      "execution_count": null,
      "outputs": []
    },
    {
      "cell_type": "markdown",
      "source": [
        "50. super()\n",
        "Descripción: Llama métodos de la clase padre.\n",
        "\n",
        "Ejemplo:"
      ],
      "metadata": {
        "id": "MJOTBBKXqlCg"
      }
    },
    {
      "cell_type": "code",
      "source": [
        "class Padre:\n",
        "    def mensaje(self):\n",
        "        return \"Hola desde Padre\"\n",
        "\n",
        "class Hijo(Padre):\n",
        "    def mensaje(self):\n",
        "        return super().mensaje() + \" y Hijo\"\n",
        "\n",
        "print(Hijo().mensaje())  # Salida: Hola desde Padre y Hijo\n"
      ],
      "metadata": {
        "id": "3_zPj1kMqq_W"
      },
      "execution_count": null,
      "outputs": []
    },
    {
      "cell_type": "markdown",
      "source": [
        "51. open()\n",
        "Descripción: Abre un archivo.\n",
        "\n",
        "Ejemplo:"
      ],
      "metadata": {
        "id": "c3gYc6gBq6t_"
      }
    },
    {
      "cell_type": "code",
      "source": [
        "archivo = open(\"archivo.txt\", \"w\")\n",
        "archivo.write(\"Hola\")\n",
        "archivo.close()\n"
      ],
      "metadata": {
        "id": "0cNnRNdZrAwF"
      },
      "execution_count": null,
      "outputs": []
    },
    {
      "cell_type": "markdown",
      "source": [
        "52. delattr()\n",
        "Descripción: Elimina un atributo de un objeto.\n",
        "\n",
        "Ejemplo:"
      ],
      "metadata": {
        "id": "TasLpTDjrCvt"
      }
    },
    {
      "cell_type": "code",
      "source": [
        "class Prueba:\n",
        "    x = 10\n",
        "\n",
        "delattr(Prueba, \"x\")\n"
      ],
      "metadata": {
        "id": "Bb_f-PzlrHk-"
      },
      "execution_count": null,
      "outputs": []
    }
  ]
}