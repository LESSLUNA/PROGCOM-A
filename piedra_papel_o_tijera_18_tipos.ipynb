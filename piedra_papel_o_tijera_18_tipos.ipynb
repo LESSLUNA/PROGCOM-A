{
  "nbformat": 4,
  "nbformat_minor": 0,
  "metadata": {
    "colab": {
      "provenance": [],
      "authorship_tag": "ABX9TyMgLckfVgqJVdJensxD08rJ",
      "include_colab_link": true
    },
    "kernelspec": {
      "name": "python3",
      "display_name": "Python 3"
    },
    "language_info": {
      "name": "python"
    }
  },
  "cells": [
    {
      "cell_type": "markdown",
      "metadata": {
        "id": "view-in-github",
        "colab_type": "text"
      },
      "source": [
        "<a href=\"https://colab.research.google.com/github/LESSLUNA/PROGCOM-A/blob/main/piedra_papel_o_tijera_18_tipos.ipynb\" target=\"_parent\"><img src=\"https://colab.research.google.com/assets/colab-badge.svg\" alt=\"Open In Colab\"/></a>"
      ]
    },
    {
      "cell_type": "code",
      "execution_count": null,
      "metadata": {
        "id": "J38TZ88SIuEw"
      },
      "outputs": [],
      "source": [
        "import random\n",
        "\n",
        "# Definir las 18 variantes del juego\n",
        "opciones = [\n",
        "    \"Piedra\", \"Papel\", \"Tijera\", \"Lagarto\", \"Spock\",\n",
        "    \"Fuego\", \"Agua\", \"Tierra\", \"Viento\", \"Rayo\",\n",
        "    \"Hoja\", \"Corteza\", \"Llama\", \"Hielo\", \"Arena\",\n",
        "    \"Cristal\", \"Roca\", \"Luz\", \"Oscuridad\"\n",
        "]\n",
        "\n",
        "# Diccionario de combinaciones ganadoras\n",
        "combinaciones_ganadoras = {\n",
        "    (\"Piedra\", \"Tijera\"): True, (\"Tijera\", \"Papel\"): True, (\"Papel\", \"Piedra\"): True,\n",
        "    (\"Tijera\", \"Lagarto\"): True, (\"Lagarto\", \"Papel\"): True, (\"Papel\", \"Spock\"): True,\n",
        "    (\"Spock\", \"Tijera\"): True, (\"Tijera\", \"Piedra\"): True, (\"Piedra\", \"Lagarto\"): True,\n",
        "    (\"Lagarto\", \"Spock\"): True, (\"Spock\", \"Roca\"): True, (\"Roca\", \"Agua\"): True,\n",
        "    (\"Agua\", \"Fuego\"): True, (\"Fuego\", \"Llama\"): True, (\"Llama\", \"Arena\"): True\n",
        "}\n",
        "\n",
        "def jugar():\n",
        "    print(\"Opciones disponibles:\")\n",
        "    for i, opcion in enumerate(opciones, 1):\n",
        "        print(f\"{i}. {opcion}\")\n",
        "\n",
        "    # Entrada del jugador\n",
        "    eleccion_jugador = int(input(\"\\nElige una opción (1-18): \")) - 1\n",
        "    if eleccion_jugador < 0 or eleccion_jugador >= len(opciones):\n",
        "        print(\"Opción no válida\")\n",
        "        return\n",
        "\n",
        "    eleccion_jugador = opciones[eleccion_jugador]\n",
        "    print(f\"Elegiste: {eleccion_jugador}\")\n",
        "\n",
        "    # Elección de la computadora\n",
        "    eleccion_computadora = random.choice(opciones)\n",
        "    print(f\"La computadora eligió: {eleccion_computadora}\")\n",
        "\n",
        "    # Determinar el resultado\n",
        "    if eleccion_jugador == eleccion_computadora:\n",
        "        print(\"¡Es un empate!\")\n",
        "    elif (eleccion_jugador, eleccion_computadora) in combinaciones_ganadoras:\n",
        "        print(\"¡Ganaste!\")\n",
        "    else:\n",
        "        print(\"¡Perdiste!\")\n",
        "\n",
        "# Ejecutar el juego\n",
        "if __name__ == \"__main__\":\n",
        "    jugar()\n"
      ]
    }
  ]
}