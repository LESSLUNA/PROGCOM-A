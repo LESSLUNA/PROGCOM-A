{
  "cells": [
    {
      "cell_type": "markdown",
      "metadata": {
        "id": "view-in-github",
        "colab_type": "text"
      },
      "source": [
        "<a href=\"https://colab.research.google.com/github/LESSLUNA/PROGCOM-A/blob/main/programa_que_solucione_problemas_de_carrera.ipynb\" target=\"_parent\"><img src=\"https://colab.research.google.com/assets/colab-badge.svg\" alt=\"Open In Colab\"/></a>"
      ]
    },
    {
      "cell_type": "code",
      "source": [
        "import random\n",
        "\n",
        "opciones = [\n",
        "    \"Piedra\", \"Papel\", \"Tijera\", \"Lagarto\", \"Spock\",\n",
        "    \"Fuego\", \"Agua\", \"Tierra\", \"Viento\", \"Rayo\",\n",
        "    \"Hoja\", \"Corteza\", \"Llama\", \"Hielo\", \"Arena\",\n",
        "    \"Cristal\", \"Roca\", \"Luz\", \"Oscuridad\"\n",
        "]\n",
        "\n",
        "combinaciones_ganadoras = {\n",
        "    (\"Piedra\", \"Tijera\"): True, (\"Tijera\", \"Papel\"): True, (\"Papel\", \"Piedra\"): True,\n",
        "    (\"Tijera\", \"Lagarto\"): True, (\"Lagarto\", \"Papel\"): True, (\"Papel\", \"Spock\"): True,\n",
        "    (\"Spock\", \"Tijera\"): True, (\"Tijera\", \"Piedra\"): True, (\"Piedra\", \"Lagarto\"): True,\n",
        "    (\"Lagarto\", \"Spock\"): True, (\"Spock\", \"Roca\"): True, (\"Roca\", \"Agua\"): True,\n",
        "    (\"Agua\", \"Fuego\"): True, (\"Fuego\", \"Llama\"): True, (\"Llama\", \"Arena\"): True\n",
        "}\n",
        "\n",
        "def jugar():\n",
        "    print(\"Opciones disponibles:\")\n",
        "    for i, opcion in enumerate(opciones, 1):\n",
        "        print(f\"{i}. {opcion}\")\n",
        "\n",
        "    eleccion_jugador = int(input(\"\\nElige una opción (1-18): \")) - 1\n",
        "    if eleccion_jugador < 0 or eleccion_jugador >= len(opciones):\n",
        "        print(\"Opción no válida\")\n",
        "        return\n",
        "\n",
        "    eleccion_jugador = opciones[eleccion_jugador]\n",
        "    print(f\"Elegiste: {eleccion_jugador}\")\n",
        "\n",
        "    eleccion_computadora = random.choice(opciones)\n",
        "    print(f\"La computadora eligió: {eleccion_computadora}\")\n",
        "\n",
        "    if eleccion_jugador == eleccion_computadora:\n",
        "        print(\"¡Es un empate!\")\n",
        "    elif (eleccion_jugador, eleccion_computadora) in combinaciones_ganadoras:\n",
        "        print(\"¡Ganaste!\")\n",
        "    else:\n",
        "        print(\"¡Perdiste!\")\n",
        "\n",
        "# Ejecutar el juego\n",
        "if __name__ == \"__main__\":\n",
        "    jugar()\n"
      ],
      "metadata": {
        "colab": {
          "base_uri": "https://localhost:8080/"
        },
        "id": "sBVVTHjWttd8",
        "outputId": "a266180d-8ecd-4c9d-be6d-ea5aaaa88f77"
      },
      "execution_count": 3,
      "outputs": [
        {
          "output_type": "stream",
          "name": "stdout",
          "text": [
            "Opciones disponibles:\n",
            "1. Piedra\n",
            "2. Papel\n",
            "3. Tijera\n",
            "4. Lagarto\n",
            "5. Spock\n",
            "6. Fuego\n",
            "7. Agua\n",
            "8. Tierra\n",
            "9. Viento\n",
            "10. Rayo\n",
            "11. Hoja\n",
            "12. Corteza\n",
            "13. Llama\n",
            "14. Hielo\n",
            "15. Arena\n",
            "16. Cristal\n",
            "17. Roca\n",
            "18. Luz\n",
            "19. Oscuridad\n",
            "\n",
            "Elige una opción (1-18): 4\n",
            "Elegiste: Lagarto\n",
            "La computadora eligió: Tijera\n",
            "¡Perdiste!\n"
          ]
        }
      ]
    }
  ],
  "metadata": {
    "colab": {
      "provenance": [],
      "authorship_tag": "ABX9TyMHdi34qSjnVV7L+LS/HvfD",
      "include_colab_link": true
    },
    "kernelspec": {
      "display_name": "Python 3",
      "name": "python3"
    },
    "language_info": {
      "name": "python"
    }
  },
  "nbformat": 4,
  "nbformat_minor": 0
}