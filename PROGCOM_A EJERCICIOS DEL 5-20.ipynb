{
  "nbformat": 4,
  "nbformat_minor": 0,
  "metadata": {
    "colab": {
      "provenance": []
    },
    "kernelspec": {
      "name": "python3",
      "display_name": "Python 3"
    },
    "language_info": {
      "name": "python"
    }
  },
  "cells": [
    {
      "cell_type": "code",
      "execution_count": 2,
      "metadata": {
        "id": "EKrVNSlsH2Xr"
      },
      "outputs": [],
      "source": [
        "import math\n",
        "\n",
        "def calcular_discriminante(a, b, c):\n",
        "    return b**2 - 4*a*c\n",
        "\n",
        "def resolver_ecuacion_cuadratica(a, b, c):\n",
        "    discriminante = calcular_discriminante(a, b, c)\n",
        "\n",
        "    if discriminante > 0:\n",
        "        # Dos raíces reales y distintas\n",
        "        raiz1 = (-b + math.sqrt(discriminante)) / (2*a)\n",
        "        raiz2 = (-b - math.sqrt(discriminante)) / (2*a)\n",
        "        return raiz1, raiz2\n",
        "    elif discriminante == 0:\n",
        "        # Una raíz real (raíz doble)\n",
        "        raiz = -b / (2*a)\n",
        "        return raiz\n",
        "    else:\n",
        "        # Raíces complejas\n",
        "        parte_real = -b / (2*a)\n",
        "        parte_imaginaria = math.sqrt(-discriminante) / (2*a)\n",
        "        return (parte_real, parte_imaginaria), (parte_real, -parte_imaginaria)\n",
        "\n",
        "def main():\n",
        "    print(\"Resolución de la ecuación cuadrática ax² + bx + c = 0\")\n",
        "\n",
        "    # Pedir los valores de a, b y c al usuario\n",
        "    a = float(input(\"Ingresa el valor de a: \"))\n",
        "    b = float(input(\"Ingresa el valor de b: \"))\n",
        "    c = float(input(\"Ingresa el valor de c: \"))\n",
        "\n",
        "    # Resolver la ecuación cuadrática\n",
        "    soluciones = resolver_ecuacion_cuadratica(a, b, c)\n",
        "\n",
        "    # Mostrar las soluciones\n",
        "    if len(soluciones) == 2:\n",
        "        if isinstance(soluciones[0], tuple):\n",
        "            print(f\"Las soluciones son complejas:\")\n",
        "            print(f\"x1 = {soluciones[0][0]} + {soluciones[0][1]}i\")\n",
        "            print(f\"x2 = {soluciones[1][0]} - {soluciones[1][1]}i\")\n",
        "        else:\n",
        "            print(f\"Las soluciones son reales y distintas:\")\n",
        "            print(f\"x1 = {soluciones[0]}\")\n",
        "            print(f\"x2 = {soluciones[1]}\")\n",
        "    else:\n",
        "        print(f\"La solución es una raíz doble:\")\n",
        "        print(f\"x = {soluciones[0]}\")"
      ]
    },
    {
      "cell_type": "code",
      "source": [
        "main()"
      ],
      "metadata": {
        "id": "xWHtznVaMWB5"
      },
      "execution_count": null,
      "outputs": []
    },
    {
      "cell_type": "code",
      "source": [
        "def es_par(numero):\n",
        "    # Un número es par si el resto de la división entre 2 es 0\n",
        "    return numero % 2 == 0\n",
        "\n",
        "def main():\n",
        "    # Pedir al usuario que ingrese un número\n",
        "    numero = int(input(\"Ingresa un número: \"))\n",
        "\n",
        "    # Determinar si el número es par o impar\n",
        "    if es_par(numero):\n",
        "        print(f\"El número {numero} es par.\")\n",
        "    else:\n",
        "        print(f\"El número {numero} es impar.\")\n"
      ],
      "metadata": {
        "id": "IUp4mb0GIlGe"
      },
      "execution_count": 7,
      "outputs": []
    },
    {
      "cell_type": "code",
      "source": [
        "def es_bisiesto(año):\n",
        "    # Un año es bisiesto si es divisible por 4 y no por 100, o si es divisible por 400\n",
        "    return (año % 4 == 0 and año % 100 != 0) or (año % 400 == 0)\n",
        "\n",
        "def main():\n",
        "    # Pedir al usuario que ingrese un año\n",
        "    anio = int(input(\"Ingresa un año: \"))\n",
        "\n",
        "    # Determinar si el año es bisiesto\n",
        "    if es_bisiesto(año):\n",
        "        print(f\"El año {año} es bisiesto.\")\n",
        "    else:\n",
        "        print(f\"El año {año} no es bisiesto.\")\n",
        "\n"
      ],
      "metadata": {
        "id": "znKXMsfjI1lt"
      },
      "execution_count": 15,
      "outputs": []
    },
    {
      "cell_type": "code",
      "source": [
        "def es_tercera_edad(edad):\n",
        "    # Determina si la edad es de 70 años o más\n",
        "    return edad >= 70\n",
        "\n",
        "def main():\n",
        "    # Solicitar el nombre y la edad del usuario\n",
        "    nombre = input(\"Ingresa tu nombre: \")\n",
        "    edad = int(input(\"Ingresa tu edad: \"))\n",
        "\n",
        "    # Verificar si pertenece a la tercera edad\n",
        "    if es_tercera_edad(edad):\n",
        "        print(f\"{nombre}, tienes {edad} años. Se te da prioridad en la fila.\")\n",
        "    else:\n",
        "        print(f\"{nombre}, tienes {edad} años. No cumples con la condición para prioridad en la fila.\")\n",
        "\n"
      ],
      "metadata": {
        "id": "tuoADrL3JCB9"
      },
      "execution_count": 16,
      "outputs": []
    },
    {
      "cell_type": "code",
      "source": [
        "def encontrar_mayor(a, b, c):\n",
        "    # Compara los tres números y devuelve el mayor\n",
        "    if a >= b and a >= c:\n",
        "        return a\n",
        "    elif b >= a and b >= c:\n",
        "        return b\n",
        "    else:\n",
        "        return c\n",
        "\n",
        "def main():\n",
        "    # Solicitar al usuario que ingrese tres números\n",
        "    num1 = float(input(\"Ingresa el primer número: \"))\n",
        "    num2 = float(input(\"Ingresa el segundo número: \"))\n",
        "    num3 = float(input(\"Ingresa el tercer número: \"))\n",
        "\n",
        "    # Encontrar el mayor de los tres números\n",
        "    mayor = encontrar_mayor(num1, num2, num3)\n",
        "\n",
        "    # Mostrar el resultado\n",
        "    print(f\"El mayor de los tres números es: {mayor}\")\n",
        "\n"
      ],
      "metadata": {
        "id": "-82OkAw4JVH0"
      },
      "execution_count": 17,
      "outputs": []
    },
    {
      "cell_type": "code",
      "source": [
        "def tipo_triangulo(lado1, lado2, lado3):\n",
        "    # Determina el tipo de triángulo según sus lados\n",
        "    if lado1 == lado2 == lado3:\n",
        "        return \"equilátero\"  # Todos los lados son iguales\n",
        "    elif lado1 == lado2 or lado1 == lado3 or lado2 == lado3:\n",
        "        return \"isósceles\"  # Dos lados son iguales\n",
        "    else:\n",
        "        return \"escaleno\"  # Todos los lados son diferentes\n",
        "\n",
        "def es_triangulo(lado1, lado2, lado3):\n",
        "    # Verifica si los lados pueden formar un triángulo\n",
        "    return (lado1 + lado2 > lado3) and (lado1 + lado3 > lado2) and (lado2 + lado3 > lado1)\n",
        "\n",
        "def main():\n",
        "    # Solicitar al usuario que ingrese las longitudes de los lados\n",
        "    lado1 = float(input(\"Ingresa la longitud del primer lado: \"))\n",
        "    lado2 = float(input(\"Ingresa la longitud del segundo lado: \"))\n",
        "    lado3 = float(input(\"Ingresa la longitud del tercer lado: \"))\n",
        "\n",
        "    # Verificar si los lados pueden formar un triángulo\n",
        "    if es_triangulo(lado1, lado2, lado3):\n",
        "        # Determinar el tipo de triángulo\n",
        "        tipo = tipo_triangulo(lado1, lado2, lado3)\n",
        "        print(f\"El triángulo es {tipo}.\")\n",
        "    else:\n",
        "        print(\"Las longitudes ingresadas no forman un triángulo válido.\")\n",
        "\n"
      ],
      "metadata": {
        "id": "48XA4x3eJgg8"
      },
      "execution_count": null,
      "outputs": []
    },
    {
      "cell_type": "code",
      "source": [
        "def calcular_imc(peso, altura):\n",
        "    # Fórmula del IMC: peso (kg) / altura (m) al cuadrado\n",
        "    return peso / (altura ** 2)\n",
        "\n",
        "def determinar_categoria(imc):\n",
        "    # Determina la categoría según el IMC\n",
        "    if imc < 18.5:\n",
        "        return \"bajo peso\"\n",
        "    elif 18.5 <= imc < 25:\n",
        "        return \"normal\"\n",
        "    elif 25 <= imc < 30:\n",
        "        return \"sobrepeso\"\n",
        "    else:\n",
        "        return \"obesidad\"\n",
        "\n",
        "def obtener_recomendacion(categoria):\n",
        "    # Proporciona una recomendación según la categoría\n",
        "    if categoria == \"bajo peso\":\n",
        "        return \"Debes aumentar de peso de manera saludable. Consulta a un nutricionista.\"\n",
        "    elif categoria == \"normal\":\n",
        "        return \"Mantén un estilo de vida saludable y sigue una dieta equilibrada.\"\n",
        "    elif categoria == \"sobrepeso\":\n",
        "        return \"Es recomendable que reduzcas tu peso mediante una dieta balanceada y ejercicio.\"\n",
        "    else:\n",
        "        return \"Es importante que consultes a un médico o nutricionista para manejar tu peso.\"\n",
        "\n",
        "def main():\n",
        "    # Solicitar el nombre, peso y altura del usuario\n",
        "    nombre = input(\"Ingresa tu nombre: \")\n",
        "    peso = float(input(\"Ingresa tu peso en kilogramos (kg): \"))\n",
        "    altura = float(input(\"Ingresa tu altura en metros (m): \"))\n",
        "\n",
        "    # Calcular el IMC\n",
        "    imc = calcular_imc(peso, altura)\n",
        "\n",
        "    # Determinar la categoría\n",
        "    categoria = determinar_categoria(imc)\n",
        "\n",
        "    # Obtener la recomendación\n",
        "    recomendacion = obtener_recomendacion(categoria)\n",
        "\n",
        "    # Mostrar los resultados\n",
        "    print(f\"\\nNombre: {nombre}\")\n",
        "    print(f\"Categoría de IMC: {categoria}\")\n",
        "    print(f\"Recomendación: {recomendacion}\")\n",
        "\n"
      ],
      "metadata": {
        "id": "tXp_6kVFJ0NE"
      },
      "execution_count": null,
      "outputs": []
    },
    {
      "cell_type": "code",
      "source": [
        "def suma(a, b):\n",
        "    return a + b\n",
        "\n",
        "def resta(a, b):\n",
        "    return a - b\n",
        "\n",
        "def multiplicacion(a, b):\n",
        "    return a * b\n",
        "\n",
        "def division(a, b):\n",
        "    if b == 0:\n",
        "        return \"Error: No se puede dividir entre cero.\"\n",
        "    return a / b\n",
        "\n",
        "def mostrar_menu():\n",
        "    print(\"\\nSelecciona la operación:\")\n",
        "    print(\"1. Suma (+)\")\n",
        "    print(\"2. Resta (-)\")\n",
        "    print(\"3. Multiplicación (*)\")\n",
        "    print(\"4. División (/)\")\n",
        "\n",
        "def main():\n",
        "    # Solicitar dos números al usuario\n",
        "    num1 = float(input(\"Ingresa el primer número: \"))\n",
        "    num2 = float(input(\"Ingresa el segundo número: \"))\n",
        "\n",
        "    # Mostrar el menú de operaciones\n",
        "    mostrar_menu()\n",
        "\n",
        "    # Solicitar la operación al usuario\n",
        "    opcion = input(\"Ingresa el número de la operación que deseas realizar (1/2/3/4): \")\n",
        "\n",
        "    # Realizar la operación seleccionada\n",
        "    if opcion == '1':\n",
        "        resultado = suma(num1, num2)\n",
        "        print(f\"El resultado de {num1} + {num2} es: {resultado}\")\n",
        "    elif opcion == '2':\n",
        "        resultado = resta(num1, num2)\n",
        "        print(f\"El resultado de {num1} - {num2} es: {resultado}\")\n",
        "    elif opcion == '3':\n",
        "        resultado = multiplicacion(num1, num2)\n",
        "        print(f\"El resultado de {num1} * {num2} es: {resultado}\")\n",
        "    elif opcion == '4':\n",
        "        resultado = division(num1, num2)\n",
        "        print(f\"El resultado de {num1} / {num2} es: {resultado}\")\n",
        "    else:\n",
        "        print(\"Opción no válida. Por favor, selecciona una opción del 1 al 4.\")\n",
        "\n"
      ],
      "metadata": {
        "id": "5RrAC0ArKNA8"
      },
      "execution_count": null,
      "outputs": []
    },
    {
      "cell_type": "code",
      "source": [
        "def determinar_calificacion(nota):\n",
        "    # Determina la calificación en letras según la nota numérica\n",
        "    if nota >= 90:\n",
        "        return \"A\"\n",
        "    elif nota >= 80:\n",
        "        return \"B\"\n",
        "    elif nota >= 70:\n",
        "        return \"C\"\n",
        "    elif nota >= 60:\n",
        "        return \"D\"\n",
        "    else:\n",
        "        return \"F\"\n",
        "\n",
        "def main():\n",
        "    # Solicitar al usuario que ingrese la nota numérica\n",
        "    nota = float(input(\"Ingresa la nota numérica (0-100): \"))\n",
        "\n",
        "    # Verificar que la nota esté en el rango válido\n",
        "    if 0 <= nota <= 100:\n",
        "        # Determinar la calificación en letras\n",
        "        calificacion = determinar_calificacion(nota)\n",
        "        print(f\"La calificación correspondiente a {nota} es: {calificacion}\")\n",
        "    else:\n",
        "        print(\"La nota ingresada no está en el rango válido (0-100).\")\n",
        "\n"
      ],
      "metadata": {
        "id": "sJMCt-4UKgfs"
      },
      "execution_count": null,
      "outputs": []
    },
    {
      "cell_type": "code",
      "source": [
        "def determinar_dia_semana(numero):\n",
        "    # Determina el día de la semana según el número\n",
        "    if numero == 1:\n",
        "        return \"Lunes\"\n",
        "    elif numero == 2:\n",
        "        return \"Martes\"\n",
        "    elif numero == 3:\n",
        "        return \"Miércoles\"\n",
        "    elif numero == 4:\n",
        "        return \"Jueves\"\n",
        "    elif numero == 5:\n",
        "        return \"Viernes\"\n",
        "    elif numero == 6:\n",
        "        return \"Sábado\"\n",
        "    elif numero == 7:\n",
        "        return \"Domingo\"\n",
        "    else:\n",
        "        return \"Número no válido. Debe ser un valor entre 1 y 7.\"\n",
        "\n",
        "def main():\n",
        "    # Solicitar al usuario que ingrese un número\n",
        "    numero = int(input(\"Ingresa un número del 1 al 7: \"))\n",
        "\n",
        "    # Determinar el día de la semana\n",
        "    dia = determinar_dia_semana(numero)\n",
        "\n",
        "    # Mostrar el resultado\n",
        "    print(f\"El día correspondiente al número {numero} es: {dia}\")\n"
      ],
      "metadata": {
        "id": "Z3S95rlNKuBs"
      },
      "execution_count": null,
      "outputs": []
    },
    {
      "cell_type": "code",
      "source": [
        "def es_triangulo(a, b, c):\n",
        "    # Verifica si los tres números pueden formar un triángulo\n",
        "    return a + b > c and a + c > b and b + c > a\n",
        "\n",
        "def tipo_triangulo(a, b, c):\n",
        "    if a == b == c:\n",
        "        return \"Equilátero\"\n",
        "    elif a == b or a == c or b == c:\n",
        "        return \"Isósceles\"\n",
        "    else:\n",
        "        return \"Escaleno\"\n",
        "\n",
        "def main():\n",
        "    # Solicita al usuario que ingrese los tres números\n",
        "    a = float(input(\"Ingrese el primer número: \"))\n",
        "    b = float(input(\"Ingrese el segundo número: \"))\n",
        "    c = float(input(\"Ingrese el tercer número: \"))\n",
        "\n",
        "    # Verifica si los números pueden formar un triángulo\n",
        "    if es_triangulo(a, b, c):\n",
        "        print(\"Los números pueden formar un triángulo.\")\n",
        "        # Determina el tipo de triángulo\n",
        "        tipo = tipo_triangulo(a, b, c)\n",
        "        print(f\"El triángulo es de tipo: {tipo}\")\n",
        "    else:\n",
        "        print(\"Los números no pueden formar un triángulo.\")\n"
      ],
      "metadata": {
        "id": "DC2zuYw2PuKx"
      },
      "execution_count": null,
      "outputs": []
    },
    {
      "cell_type": "code",
      "source": [
        "def mostrar_tabla_multiplicar(numero):\n",
        "    # Muestra la tabla de multiplicar del número hasta el 10\n",
        "    print(f\"Tabla de multiplicar del {numero}:\")\n",
        "    for i in range(1, 11):\n",
        "        print(f\"{numero} x {i} = {numero * i}\")\n",
        "\n",
        "def main():\n",
        "    # Solicita al usuario que ingrese un número\n",
        "    numero = int(input(\"Ingrese un número para mostrar su tabla de multiplicar: \"))\n",
        "\n",
        "    # Llama a la función para mostrar la tabla de multiplicar\n",
        "    mostrar_tabla_multiplicar(numero)\n",
        "\n"
      ],
      "metadata": {
        "id": "9enDpWS3Pymf"
      },
      "execution_count": null,
      "outputs": []
    },
    {
      "cell_type": "code",
      "source": [
        "def suma_naturales(n):\n",
        "    return n * (n + 1) // 2\n",
        "\n",
        "# Ejemplo de uso\n",
        "n = int(input(\"Ingrese un número natural: \"))\n",
        "print(f\"La suma de los números naturales hasta {n} es: {suma_naturales(n)}\")"
      ],
      "metadata": {
        "id": "ZEKDmgwrRBIG"
      },
      "execution_count": null,
      "outputs": []
    },
    {
      "cell_type": "code",
      "source": [
        "def factorial(n):\n",
        "    if n < 0:\n",
        "        return \"No existe factorial de números negativos.\"\n",
        "    return 1 if n == 0 else n * factorial(n - 1)\n",
        "\n",
        "# Ejemplo de uso\n",
        "n = int(input(\"Ingrese un número para calcular su factorial: \"))\n",
        "print(f\"El factorial de {n} es: {factorial(n)}\")"
      ],
      "metadata": {
        "id": "tmRjpwg6RbdN"
      },
      "execution_count": null,
      "outputs": []
    },
    {
      "cell_type": "code",
      "source": [
        "def fibonacci(n):\n",
        "    a, b = 0, 1\n",
        "    for _ in range(n):\n",
        "        print(a, end=\" \")\n",
        "        a, b = b, a + b\n",
        "\n",
        "# Ejemplo de uso\n",
        "n = int(input(\"Ingrese la cantidad de números de la serie Fibonacci que desea mostrar: \"))\n",
        "fibonacci(n)"
      ],
      "metadata": {
        "id": "VQDYNK3jRn7F"
      },
      "execution_count": null,
      "outputs": []
    },
    {
      "cell_type": "code",
      "source": [
        "import random\n",
        "\n",
        "def adivinar_color(colores):\n",
        "    intentos = 0\n",
        "    while intentos < 10:\n",
        "        intentos += 1\n",
        "        adivinanza = random.choice(colores)\n",
        "        print(f\"Intento {intentos}: ¿Es el color {adivinanza}?\")\n",
        "        respuesta = input(\"Responde 'sí' o 'no': \").strip().lower()\n",
        "        if respuesta == \"sí\":\n",
        "            print(f\"¡Adiviné el color {adivinanza} en {intentos} intentos!\")\n",
        "            return\n",
        "    print(\"No logré adivinar el color en 10 intentos. ¡Buena elección!\")\n",
        "\n",
        "# Definir los 10 colores\n",
        "colores = [input(f\"Ingrese el color {i+1}: \") for i in range(10)]\n",
        "\n",
        "# Iniciar el juego\n",
        "print(\"\\nVoy a intentar adivinar uno de los colores que ingresaste. ¡Piensa en uno!\")\n",
        "adivinar_color(colores)"
      ],
      "metadata": {
        "id": "swffQoFzR2v9"
      },
      "execution_count": null,
      "outputs": []
    }
  ]
}