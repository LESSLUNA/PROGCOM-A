{
  "nbformat": 4,
  "nbformat_minor": 0,
  "metadata": {
    "colab": {
      "provenance": []
    },
    "kernelspec": {
      "name": "python3",
      "display_name": "Python 3"
    },
    "language_info": {
      "name": "python"
    }
  },
  "cells": [
    {
      "cell_type": "markdown",
      "source": [
        "#LAMBDA O FUNCIONES ANÓNIMAS\n",
        "* Declaran funciones pequeñas, sencillas y de acceso rápido\n",
        "* Puede contener sólo **UNA** expresión. por lo que no son la más adecuadas para funcione con instrucciones de flujo\n",
        "* Las funciones Lambda pueden tener n número de argumentos pero solo una expresión.\n",
        "\n",
        "Se define"
      ],
      "metadata": {
        "id": "lJ7F90Bqyqao"
      }
    },
    {
      "cell_type": "code",
      "source": [
        "#Funcion tradicional para calcular el cuadrado de un número:\n",
        "def cuadrado(num):\n",
        "  return num**2\n",
        "  print(cuadrado(10))"
      ],
      "metadata": {
        "id": "29mSK4Tczble"
      },
      "execution_count": 2,
      "outputs": []
    },
    {
      "cell_type": "code",
      "source": [
        "#Funcion lambda para calcular el cuadro de un número:\n",
        "cuadrado1=lambda num: num**2\n",
        "print(cuadrado1(10))"
      ],
      "metadata": {
        "colab": {
          "base_uri": "https://localhost:8080/"
        },
        "id": "KbYdwRidzv-Y",
        "outputId": "f8581b0b-4d7d-49af-8dca-c9db02f5cacc"
      },
      "execution_count": 3,
      "outputs": [
        {
          "output_type": "stream",
          "name": "stdout",
          "text": [
            "100\n"
          ]
        }
      ]
    },
    {
      "cell_type": "code",
      "source": [
        "#Funcion que si un número elevado a la n es >10 me regrese un True, y si no un For\n",
        "def numero(x,n):\n",
        "  if x**n>10:\n",
        "    return True\n",
        "  else:\n",
        "    return False"
      ],
      "metadata": {
        "id": "72uuN6M20d2G"
      },
      "execution_count": 5,
      "outputs": []
    },
    {
      "cell_type": "code",
      "source": [
        "print(numero(3,2))"
      ],
      "metadata": {
        "colab": {
          "base_uri": "https://localhost:8080/"
        },
        "id": "ZWzM0_E_0_TG",
        "outputId": "0c568df1-0b33-4389-d8c4-0d8d70e9b29d"
      },
      "execution_count": 6,
      "outputs": [
        {
          "output_type": "stream",
          "name": "stdout",
          "text": [
            "False\n"
          ]
        }
      ]
    },
    {
      "cell_type": "code",
      "source": [
        "#Funcion lambda que si un número elevado a la n es >10 me regrese un True, y si no un For\n",
        "cuadradon=lambda x,n: True if x**n>10 else False\n",
        "cuadradon(3,2)"
      ],
      "metadata": {
        "colab": {
          "base_uri": "https://localhost:8080/"
        },
        "id": "Lhf2trfo1F1l",
        "outputId": "029afeac-0228-41c4-d736-dbc22e99ede4"
      },
      "execution_count": 7,
      "outputs": [
        {
          "output_type": "execute_result",
          "data": {
            "text/plain": [
              "False"
            ]
          },
          "metadata": {},
          "execution_count": 7
        }
      ]
    },
    {
      "cell_type": "markdown",
      "source": [
        "Usando la funcion MAP"
      ],
      "metadata": {
        "id": "NqnVyV4h2A_V"
      }
    },
    {
      "cell_type": "code",
      "source": [
        "dias=['Lunes','Martes','Miercoles','Jueves','Viernes','Sabado','Domingo']\n",
        "temp=[10.5,13.8,28.2,34.3,33.8,19.1,29.8]"
      ],
      "metadata": {
        "id": "dg7-gUqP2HbW"
      },
      "execution_count": 12,
      "outputs": []
    },
    {
      "cell_type": "code",
      "source": [
        "temp_semana={dias:temp for (dias,temp) in zip(dias,temp)}\n",
        "print(temp_semana)"
      ],
      "metadata": {
        "colab": {
          "base_uri": "https://localhost:8080/"
        },
        "id": "JtEAbbW_3IV8",
        "outputId": "8fd7fcf7-500c-4472-f711-cca869a2d8eb"
      },
      "execution_count": 14,
      "outputs": [
        {
          "output_type": "stream",
          "name": "stdout",
          "text": [
            "{'Lunes': 10.5, 'Martes': 13.8, 'Miercoles': 28.2, 'Jueves': 34.3, 'Viernes': 33.8, 'Sabado': 19.1, 'Domingo': 29.8}\n"
          ]
        }
      ]
    },
    {
      "cell_type": "code",
      "source": [
        "clima1=dict(temp_semana)\n",
        "clima1"
      ],
      "metadata": {
        "colab": {
          "base_uri": "https://localhost:8080/"
        },
        "id": "y2IpHEaO3x8k",
        "outputId": "cac5699c-0eae-467a-c556-483f563acfc1"
      },
      "execution_count": 15,
      "outputs": [
        {
          "output_type": "execute_result",
          "data": {
            "text/plain": [
              "{'Lunes': 10.5,\n",
              " 'Martes': 13.8,\n",
              " 'Miercoles': 28.2,\n",
              " 'Jueves': 34.3,\n",
              " 'Viernes': 33.8,\n",
              " 'Sabado': 19.1,\n",
              " 'Domingo': 29.8}"
            ]
          },
          "metadata": {},
          "execution_count": 15
        }
      ]
    },
    {
      "cell_type": "code",
      "source": [
        "def clima(temp):\n",
        "  resultado=[]\n",
        "  for i in temp:\n",
        "    if i<20.0: resultado.append((i,\"Temperatura fria\"))\n",
        "    elif i>=20.0 and i<30.0: resultado.append((i,\"Temperatura templada\"))\n",
        "    else: resultado.append((i,\"Temperatura caliente\"))\n",
        "  return resultado\n",
        "clima(temp)"
      ],
      "metadata": {
        "colab": {
          "base_uri": "https://localhost:8080/"
        },
        "id": "xeCpaVyp4CdD",
        "outputId": "1d00f217-54a1-446f-839f-d9a3a2b0651f"
      },
      "execution_count": 23,
      "outputs": [
        {
          "output_type": "execute_result",
          "data": {
            "text/plain": [
              "[(10.5, 'Temperatura fria'),\n",
              " (13.8, 'Temperatura fria'),\n",
              " (28.2, 'Temperatura templada'),\n",
              " (34.3, 'Temperatura caliente'),\n",
              " (33.8, 'Temperatura caliente'),\n",
              " (19.1, 'Temperatura fria'),\n",
              " (29.8, 'Temperatura templada')]"
            ]
          },
          "metadata": {},
          "execution_count": 23
        }
      ]
    },
    {
      "cell_type": "markdown",
      "source": [
        "Declarando la funcion MAP\n",
        "\n",
        "\n",
        "```\n",
        "Elemento a regresar (MAP(FUNCION A MAPEAR, PARAMETROS A *MAPEAR*))\n",
        "```\n",
        "\n",
        "Elemento a regresar: tupla - tuple, conjunto - set,diccionario- dict, lista - list"
      ],
      "metadata": {
        "id": "wj_hCqkT6S5j"
      }
    },
    {
      "cell_type": "code",
      "source": [
        "#mismo ejercicio, con funciones anónimas\n",
        "def clima2(l1,l2):\n",
        "  y2=clima(l2)\n",
        "  return dict(map(lambda x,y:(x,y),l1,l2))\n",
        "clima2(dias,temp)"
      ],
      "metadata": {
        "colab": {
          "base_uri": "https://localhost:8080/"
        },
        "id": "oxAG6IRp5uUd",
        "outputId": "551dcd6a-04ea-41eb-8398-659268c5a564"
      },
      "execution_count": 24,
      "outputs": [
        {
          "output_type": "execute_result",
          "data": {
            "text/plain": [
              "{'Lunes': 10.5,\n",
              " 'Martes': 13.8,\n",
              " 'Miercoles': 28.2,\n",
              " 'Jueves': 34.3,\n",
              " 'Viernes': 33.8,\n",
              " 'Sabado': 19.1,\n",
              " 'Domingo': 29.8}"
            ]
          },
          "metadata": {},
          "execution_count": 24
        }
      ]
    },
    {
      "cell_type": "code",
      "source": [
        "a1=lambda x: \"Temperatura ambiente\" if (x>=20 and x<30) else \"Temperatura caliente\"\n",
        "a2=lambda x: \"Temperatura fria\" if x<18 else a1(x)\n",
        "t1=[]\n",
        "for i in temp: t1.append((i,a2(i)))\n",
        "t1"
      ],
      "metadata": {
        "colab": {
          "base_uri": "https://localhost:8080/"
        },
        "id": "0oMU2_Hs7cWJ",
        "outputId": "a2c4a6b2-3c8e-49c1-d44a-9304079bdf2e"
      },
      "execution_count": 25,
      "outputs": [
        {
          "output_type": "execute_result",
          "data": {
            "text/plain": [
              "[(10.5, 'Temperatura fria'),\n",
              " (13.8, 'Temperatura fria'),\n",
              " (28.2, 'Temperatura ambiente'),\n",
              " (34.3, 'Temperatura caliente'),\n",
              " (33.8, 'Temperatura caliente'),\n",
              " (19.1, 'Temperatura caliente'),\n",
              " (29.8, 'Temperatura ambiente')]"
            ]
          },
          "metadata": {},
          "execution_count": 25
        }
      ]
    },
    {
      "cell_type": "code",
      "source": [
        "#t2=list(map(lambda x: \"Temperatura ambiente\" if (x>=20 and x<30) else \"Temperatura caliente\",temp))\n",
        "t4=list(map(lambda x: (x, \"Temperatura fria\") if x<=20 else ((x, \"Temperatura ambiente\") if x>=20 and x<30 else (x, \"Temperatura caliente\")),temp))\n",
        "t4"
      ],
      "metadata": {
        "colab": {
          "base_uri": "https://localhost:8080/"
        },
        "id": "BDwMQxdW8roo",
        "outputId": "3bca2c6e-e114-4342-d53d-9654061d0706"
      },
      "execution_count": 26,
      "outputs": [
        {
          "output_type": "execute_result",
          "data": {
            "text/plain": [
              "[(10.5, 'Temperatura fria'),\n",
              " (13.8, 'Temperatura fria'),\n",
              " (28.2, 'Temperatura ambiente'),\n",
              " (34.3, 'Temperatura caliente'),\n",
              " (33.8, 'Temperatura caliente'),\n",
              " (19.1, 'Temperatura fria'),\n",
              " (29.8, 'Temperatura ambiente')]"
            ]
          },
          "metadata": {},
          "execution_count": 26
        }
      ]
    },
    {
      "cell_type": "code",
      "source": [
        "t3=dict(map(lambda x,y: (x,y),dias,t4))\n",
        "t3"
      ],
      "metadata": {
        "id": "1zpj3U6P_RFX"
      },
      "execution_count": null,
      "outputs": []
    }
  ]
}